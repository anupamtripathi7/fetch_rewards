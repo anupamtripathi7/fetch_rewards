{
 "cells": [
  {
   "cell_type": "markdown",
   "metadata": {
    "collapsed": true
   },
   "source": [
    "<h1>Fetch Data Science &amp; Analytics (DSA) – Python Coding Challenge</h1>\n",
    "<br><br>\n",
    "<b>Problem Statement</b><br>\n",
    "In Python build a scraper that manipulates the associated text document (the first\n",
    "chapter of the book Frankenstein) to do the following:<br>\n",
    "● Store all distinct words in the text in a dictionary and keep track of the word\n",
    "counts (make sure to strip all punctuation and lower the case of the words)<br>\n",
    "● There are 4 sentences in this text, composed of words that are “hidden”\n",
    "(bookended by special characters). Find the sentences in the text.<br>\n",
    "● Save the distinct word dictionary as a JSON file (call it &#39;word_count_dict.json&#39;)<br>\n",
    "● Save the 4 hidden sentences together as a list of lists, then join them and print\n",
    "them with a for loop<br>\n",
    "● Remove the 4 hidden sentences from the original text file and save a clean\n",
    "version of the first chapter of Frankenstein to a text file (call it\n",
    "&#39;Clean_Frankenstein.txt&#39;)<br>\n",
    "● Plot a histogram of the count of words by word length for all words in the\n",
    "document<br>"
   ]
  },
  {
   "cell_type": "code",
   "execution_count": 1,
   "metadata": {},
   "outputs": [
    {
     "name": "stderr",
     "output_type": "stream",
     "text": [
      "[nltk_data] Downloading package punkt to\n",
      "[nltk_data]     /Users/anupamtripathi/nltk_data...\n",
      "[nltk_data]   Package punkt is already up-to-date!\n"
     ]
    }
   ],
   "source": [
    "from utils import read_text, save_json, save_text, tokenize, remove_punctuations\n",
    "import re\n",
    "import matplotlib.pyplot as plt\n",
    "\n",
    "# read text from text file\n",
    "text = read_text('data.txt')"
   ]
  },
  {
   "cell_type": "markdown",
   "metadata": {},
   "source": [
    "<h3>Task 1, 3</h3>\n",
    "● Store all distinct words in the text in a dictionary and keep track of the word counts (make sure to strip all punctuation and lower the case of the words)<br>\n",
    "● Save the distinct word dictionary as a JSON file (call it 'word_count_dict.json'"
   ]
  },
  {
   "cell_type": "code",
   "execution_count": 2,
   "metadata": {},
   "outputs": [],
   "source": [
    "def get_word_counts(filename):\n",
    "    with open(filename, 'r', encoding='utf8') as f:\n",
    "        x = f.read()\n",
    "\n",
    "    x = x.lower()\n",
    "    x = re.sub(r'[^\\w\\d\\s]+', '', x)\n",
    "    x = x.replace('\\n', ' ')\n",
    "    x = x.split(' ')\n",
    "    word_count = {}\n",
    "    for word in x:\n",
    "        if word not in word_count:\n",
    "            word_count[word] = 1\n",
    "        else:\n",
    "            word_count[word] += 1\n",
    "\n",
    "    return word_count, x\n",
    "\n",
    "# get word count from the file\n",
    "word_counts, words = get_word_counts('data.txt')\n",
    "save_json(word_counts)"
   ]
  },
  {
   "cell_type": "markdown",
   "metadata": {},
   "source": [
    "<h3>Task 2, 4, 5</h3>\n",
    "● There are 4 sentences in this text, composed of words that are “hidden” (bookended by special characters). Find the sentences in the text.<br>\n",
    "● Save the 4 hidden sentences together as a list of lists, then join them and print them with a for loop<br>\n",
    "● Remove the 4 hidden sentences from the original text file and save a clean version of the first chapter of Frankenstein to a text file (call it 'Clean_Frankenstein.txt')"
   ]
  },
  {
   "cell_type": "code",
   "execution_count": 3,
   "metadata": {},
   "outputs": [],
   "source": [
    "def remove_hidden_sentences(text):\n",
    "    removed_hidden = []\n",
    "    hidden_sent = []\n",
    "    for sent in text:\n",
    "        regex = r'^.*([^\\w\\d\\s])[^\\s]*\\1.*$'\n",
    "        if not (re.search(regex, sent)):\n",
    "            removed_hidden.append(sent)\n",
    "        else:\n",
    "            hidden_sent.append(sent)\n",
    "\n",
    "    return removed_hidden, hidden_sent\n",
    "\n",
    "sentences = tokenize(text)\n",
    "sentences, hidden_sentences = remove_hidden_sentences(sentences)\n",
    "save_text('Clean_Frankenstein.txt', sentences)"
   ]
  },
  {
   "cell_type": "markdown",
   "metadata": {},
   "source": [
    "<h3>Task 2, 4, 5</h3>\n",
    "● Plot a histogram of the count of words by word length for all words in the document"
   ]
  },
  {
   "cell_type": "code",
   "execution_count": 4,
   "metadata": {},
   "outputs": [
    {
     "data": {
      "image/png": "[encoded data removed]",
      "text/plain": [
       "<Figure size 432x288 with 1 Axes>"
      ]
     },
     "metadata": {
      "needs_background": "light"
     },
     "output_type": "display_data"
    }
   ],
   "source": [
    "words_len = list(map(len, words))\n",
    "plt.hist(words_len, density=False)\n",
    "plt.xlabel('Word lenghts')\n",
    "plt.ylabel('Counts')\n",
    "plt.show()"
   ]
  },
  {
   "cell_type": "markdown",
   "metadata": {},
   "source": [
    "Assumptions: <br>\n",
    "● Even though the document mentions 4 hidden sentences, more than that qualify form the defincation of hidden sentence, therefore all have been removed. If for example 'end of sentence. <the< \\n' is a part of the text, '<the< ' is the entire sentence that will be removed due to precence of hidden word.  \n",
    "● The given text has been given with the code in form of a text file, so an explicit scrapper was not needed.\n",
    "\n",
    "All the needed functions and aditional code is available on https://github.com/anupamtripathi7/fetch_rewards"
   ]
  },
  {
   "cell_type": "code",
   "execution_count": null,
   "metadata": {},
   "outputs": [],
   "source": []
  }
 ],
 "metadata": {
  "kernelspec": {
   "display_name": "Python 3",
   "language": "python",
   "name": "python3"
  },
  "language_info": {
   "codemirror_mode": {
    "name": "ipython",
    "version": 3
   },
   "file_extension": ".py",
   "mimetype": "text/x-python",
   "name": "python",
   "nbconvert_exporter": "python",
   "pygments_lexer": "ipython3",
   "version": "3.7.4"
  }
 },
 "nbformat": 4,
 "nbformat_minor": 1
}
